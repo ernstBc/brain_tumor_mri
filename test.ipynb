{
 "cells": [
  {
   "cell_type": "code",
   "execution_count": 1,
   "metadata": {},
   "outputs": [
    {
     "name": "stderr",
     "output_type": "stream",
     "text": [
      "c:\\Users\\ernes\\Documents\\ML Projects\\brain_cancer\\venv\\Lib\\site-packages\\tqdm\\auto.py:21: TqdmWarning: IProgress not found. Please update jupyter and ipywidgets. See https://ipywidgets.readthedocs.io/en/stable/user_install.html\n",
      "  from .autonotebook import tqdm as notebook_tqdm\n"
     ]
    }
   ],
   "source": [
    "import os\n",
    "from dotenv import load_dotenv\n",
    "from src.components.ingestion import IngestionComponent\n",
    "from src.components.transformer import TransformerComponent\n",
    "from src.components.trainer import TrainerComponent\n",
    "from src.components.tuner import TunerComponent\n",
    "from src.config.config import TRAIN_DATA"
   ]
  },
  {
   "cell_type": "code",
   "execution_count": 2,
   "metadata": {},
   "outputs": [],
   "source": [
    "_=load_dotenv()"
   ]
  },
  {
   "cell_type": "code",
   "execution_count": 3,
   "metadata": {},
   "outputs": [],
   "source": [
    "ingestion=IngestionComponent()\n",
    "train_path, valid_path, test_path=ingestion.init_component()"
   ]
  },
  {
   "cell_type": "code",
   "execution_count": 4,
   "metadata": {},
   "outputs": [
    {
     "name": "stdout",
     "output_type": "stream",
     "text": [
      "Found 5613 files belonging to 4 classes.\n",
      "Found 697 files belonging to 4 classes.\n",
      "Found 697 files belonging to 4 classes.\n"
     ]
    }
   ],
   "source": [
    "transformer=TransformerComponent()\n",
    "train_dataset,valid_dataset,test_dataset=transformer.init_transform(train_path=train_path, valid_path=valid_path, test_path=test_path)"
   ]
  },
  {
   "cell_type": "code",
   "execution_count": 26,
   "metadata": {},
   "outputs": [
    {
     "name": "stdout",
     "output_type": "stream",
     "text": [
      "Trial 2 Complete [00h 09m 08s]\n",
      "val_loss: 0.21958307921886444\n",
      "\n",
      "Best val_loss So Far: 0.21958307921886444\n",
      "Total elapsed time: 00h 19m 54s\n"
     ]
    }
   ],
   "source": [
    "tuner=TunerComponent()\n",
    "hp=tuner.init_tuner(train_dataset=train_dataset, test_dataset=valid_dataset, epochs=2,max_trials=2)"
   ]
  },
  {
   "cell_type": "code",
   "execution_count": 27,
   "metadata": {},
   "outputs": [
    {
     "data": {
      "text/plain": [
       "<keras_tuner.src.tuners.bayesian.BayesianOptimization at 0x1f23cf3d190>"
      ]
     },
     "execution_count": 27,
     "metadata": {},
     "output_type": "execute_result"
    }
   ],
   "source": [
    "hp"
   ]
  },
  {
   "cell_type": "code",
   "execution_count": 28,
   "metadata": {},
   "outputs": [
    {
     "data": {
      "text/plain": [
       "<keras_tuner.src.engine.hyperparameters.hyperparameters.HyperParameters at 0x1f24621e610>"
      ]
     },
     "execution_count": 28,
     "metadata": {},
     "output_type": "execute_result"
    }
   ],
   "source": [
    "hp=hp.get_best_hyperparameters(1)[0]\n",
    "hp"
   ]
  },
  {
   "cell_type": "code",
   "execution_count": 5,
   "metadata": {},
   "outputs": [],
   "source": [
    "hp={\n",
    "    'num_con_layers':3,\n",
    "    'activation_fn': 'selu',\n",
    "    'units':128,\n",
    "    'lr':0.0002557125884013172\n",
    "}"
   ]
  },
  {
   "cell_type": "code",
   "execution_count": 32,
   "metadata": {},
   "outputs": [
    {
     "name": "stdout",
     "output_type": "stream",
     "text": [
      "Epoch 1/2\n",
      "\u001b[1m176/176\u001b[0m \u001b[32m━━━━━━━━━━━━━━━━━━━━\u001b[0m\u001b[37m\u001b[0m \u001b[1m279s\u001b[0m 2s/step - accuracy: 0.4253 - loss: 74.3925 - val_accuracy: 0.2568 - val_loss: 13.0251\n",
      "Epoch 2/2\n",
      "\u001b[1m176/176\u001b[0m \u001b[32m━━━━━━━━━━━━━━━━━━━━\u001b[0m\u001b[37m\u001b[0m \u001b[1m277s\u001b[0m 2s/step - accuracy: 0.6760 - loss: 0.9292 - val_accuracy: 0.4835 - val_loss: 5.1408\n"
     ]
    }
   ],
   "source": [
    "trainer=TrainerComponent()\n",
    "model_path, model_id, hist = trainer.init_trainer(train_dataset=train_dataset, test_dataset=valid_dataset, epochs=2, hp=hp)"
   ]
  },
  {
   "cell_type": "code",
   "execution_count": 36,
   "metadata": {},
   "outputs": [
    {
     "data": {
      "text/plain": [
       "('c:\\\\Users\\\\ernes\\\\Documents\\\\ML Projects\\\\brain_cancer\\\\artifacts\\\\models\\\\1730228715.8542323',\n",
       " 1730228715.8542323,\n",
       " <keras.src.callbacks.history.History at 0x1abea825b50>)"
      ]
     },
     "execution_count": 36,
     "metadata": {},
     "output_type": "execute_result"
    }
   ],
   "source": [
    "model_path, model_id, hist"
   ]
  },
  {
   "cell_type": "code",
   "execution_count": 37,
   "metadata": {},
   "outputs": [],
   "source": [
    "import tensorflow as tf\n",
    "\n",
    "imported=tf.saved_model.load(model_path)\n",
    "f=imported.signatures[\"serving_default\"]"
   ]
  },
  {
   "cell_type": "code",
   "execution_count": 38,
   "metadata": {},
   "outputs": [
    {
     "name": "stdout",
     "output_type": "stream",
     "text": [
      "[0 3 0 0 0 3 0 2 3 3 3 3 2 3 0 1 3 1 0 0 0 0 0 3 3 0 0 0 3 1 1 3]\n",
      "labels tf.Tensor([1 1 2 2 0 1 2 1 3 2 3 1 2 3 1 1 1 1 2 0 2 2 3 3 3 2 2 2 2 1 1 1], shape=(32,), dtype=int32)\n",
      "[0 3 3 0 3 0 0 3 0 3 3 0 0 2 0 3 3 0 0 2 1 0 0 1 3 0 3 3 0 3 0 3]\n",
      "labels tf.Tensor([1 1 3 0 3 0 1 3 0 2 3 3 2 1 0 3 3 1 0 1 1 0 2 1 3 1 3 1 0 1 2 1], shape=(32,), dtype=int32)\n",
      "[0 3 0 3 2 3 3 0 0 3 0 3 3 0 0 3 3 0 3 3 3 0 3 3 0 0 0 2 3 2 0 0]\n",
      "labels tf.Tensor([0 3 3 3 2 3 3 2 2 3 0 2 3 1 0 1 1 0 1 3 2 0 3 3 0 0 0 2 3 0 0 0], shape=(32,), dtype=int32)\n",
      "[0 0 2 0 3 0 1 3 0 0 3 0 3 0 0 3 3 0 0 0 0 0 0 0 0 0 0 2 0 3 0 0]\n",
      "labels tf.Tensor([2 3 2 1 2 1 1 1 0 0 3 0 3 0 0 3 3 1 2 0 1 0 0 3 3 2 2 2 2 2 3 1], shape=(32,), dtype=int32)\n",
      "[3 3 3 0 1 1 3 0 0 3 0 0 3 0 3 3 3 0 0 0 0 0 0 0 3 0 0 3 0 3 0 0]\n",
      "labels tf.Tensor([1 3 3 0 1 1 2 2 0 3 1 2 3 2 1 3 1 0 1 0 2 0 0 2 1 2 1 1 2 1 0 0], shape=(32,), dtype=int32)\n",
      "[3 0 0 3 0 0 0 3 0 3 0 0 0 0 0 0 3 3 3 2 3 3 0 3 3 1 0 0 3 0 0 0]\n",
      "labels tf.Tensor([3 0 2 3 2 0 0 1 2 3 2 1 1 1 1 2 3 2 1 2 3 3 0 1 3 1 2 1 1 2 2 3], shape=(32,), dtype=int32)\n",
      "[3 1 3 3 1 3 3 2 3 0 1 0 3 0 3 2 3 3 1 0 0 0 0 3 0 0 0 3 0 0 3 0]\n",
      "labels tf.Tensor([1 1 3 1 1 1 1 2 1 0 1 0 1 1 3 2 3 3 1 0 1 2 0 2 3 0 0 3 0 2 3 2], shape=(32,), dtype=int32)\n",
      "[0 0 0 0 3 3 0 0 0 0 3 3 0 0 0 0 0 0 3 3 3 0 0 3 2 3 0 3 0 0 3 2]\n",
      "labels tf.Tensor([2 0 1 0 3 1 0 0 0 2 1 3 0 0 0 1 0 2 3 3 3 1 1 3 1 3 0 2 2 1 3 2], shape=(32,), dtype=int32)\n",
      "[0 0 0 0 3 0 0 3 0 0 1 1 3 0 3 3 3 3 3 3 0 0 0 0 0 3 3 0 3 0 0 3]\n",
      "labels tf.Tensor([0 0 1 0 1 2 0 3 0 2 1 1 3 2 1 3 3 1 3 3 0 0 0 0 0 3 1 2 3 1 0 3], shape=(32,), dtype=int32)\n",
      "[3 0 0 0 0 0 0 0 0 3 3 0 0 0 3 0 1 0 3 3 0 3 0 0 0 0 3 3 0 0 0 3]\n",
      "labels tf.Tensor([3 1 0 0 0 0 1 2 0 2 1 0 2 0 1 0 1 1 3 1 2 2 1 2 0 2 2 3 0 2 3 1], shape=(32,), dtype=int32)\n"
     ]
    }
   ],
   "source": [
    "for example, label in test_dataset.take(10):\n",
    "    print(f(example)['output_0'].numpy().argmax(-1))\n",
    "    print('labels', label)"
   ]
  },
  {
   "cell_type": "code",
   "execution_count": null,
   "metadata": {},
   "outputs": [],
   "source": []
  }
 ],
 "metadata": {
  "kernelspec": {
   "display_name": "Python 3",
   "language": "python",
   "name": "python3"
  },
  "language_info": {
   "codemirror_mode": {
    "name": "ipython",
    "version": 3
   },
   "file_extension": ".py",
   "mimetype": "text/x-python",
   "name": "python",
   "nbconvert_exporter": "python",
   "pygments_lexer": "ipython3",
   "version": "3.11.0"
  }
 },
 "nbformat": 4,
 "nbformat_minor": 2
}
