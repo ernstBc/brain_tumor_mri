{
 "cells": [
  {
   "cell_type": "code",
   "execution_count": 1,
   "metadata": {},
   "outputs": [
    {
     "name": "stderr",
     "output_type": "stream",
     "text": [
      "c:\\Users\\ernes\\Documents\\ML Projects\\brain_cancer\\venv\\Lib\\site-packages\\tqdm\\auto.py:21: TqdmWarning: IProgress not found. Please update jupyter and ipywidgets. See https://ipywidgets.readthedocs.io/en/stable/user_install.html\n",
      "  from .autonotebook import tqdm as notebook_tqdm\n"
     ]
    }
   ],
   "source": [
    "import os\n",
    "from dotenv import load_dotenv\n",
    "from src.components.ingestion import IngestionComponent\n",
    "from src.config.config import TRAIN_DATA"
   ]
  },
  {
   "cell_type": "code",
   "execution_count": 2,
   "metadata": {},
   "outputs": [],
   "source": [
    "_=load_dotenv()"
   ]
  },
  {
   "cell_type": "code",
   "execution_count": 3,
   "metadata": {},
   "outputs": [
    {
     "name": "stdout",
     "output_type": "stream",
     "text": [
      "Downloading from https://www.kaggle.com/api/v1/datasets/download/rm1000/brain-tumor-mri-scans?dataset_version_number=1...\n"
     ]
    },
    {
     "name": "stderr",
     "output_type": "stream",
     "text": [
      "100%|██████████| 236M/236M [02:36<00:00, 1.58MB/s] "
     ]
    },
    {
     "name": "stdout",
     "output_type": "stream",
     "text": [
      "Extracting files...\n"
     ]
    },
    {
     "name": "stderr",
     "output_type": "stream",
     "text": [
      "\n"
     ]
    },
    {
     "name": "stdout",
     "output_type": "stream",
     "text": [
      "C:\\Users\\ernes\\.cache\\kagglehub\\datasets\\rm1000\\brain-tumor-mri-scans\\versions\\1\n"
     ]
    },
    {
     "data": {
      "text/plain": [
       "(WindowsPath('c:/Users/ernes/Documents/ML Projects/brain_cancer/data/train'),\n",
       " WindowsPath('c:/Users/ernes/Documents/ML Projects/brain_cancer/data/val'),\n",
       " WindowsPath('c:/Users/ernes/Documents/ML Projects/brain_cancer/data/test'))"
      ]
     },
     "execution_count": 3,
     "metadata": {},
     "output_type": "execute_result"
    }
   ],
   "source": [
    "ingestion=IngestionComponent()\n",
    "ingestion.init_component()"
   ]
  },
  {
   "cell_type": "code",
   "execution_count": 4,
   "metadata": {},
   "outputs": [
    {
     "data": {
      "text/plain": [
       "True"
      ]
     },
     "execution_count": 4,
     "metadata": {},
     "output_type": "execute_result"
    }
   ],
   "source": [
    "os.path.exists(os.path.join(os.getcwd(), 'data', 'data'))"
   ]
  },
  {
   "cell_type": "code",
   "execution_count": 3,
   "metadata": {},
   "outputs": [
    {
     "data": {
      "text/plain": [
       "0"
      ]
     },
     "execution_count": 3,
     "metadata": {},
     "output_type": "execute_result"
    }
   ],
   "source": [
    "len(os.listdir(TRAIN_DATA))"
   ]
  },
  {
   "cell_type": "code",
   "execution_count": 16,
   "metadata": {},
   "outputs": [
    {
     "data": {
      "text/plain": [
       "'C:\\\\Users\\\\ernes\\\\.cache\\\\kagglehub\\\\datasets\\\\rm1000\\\\brain-tumor-mri-scans\\\\versions\\\\1'"
      ]
     },
     "execution_count": 16,
     "metadata": {},
     "output_type": "execute_result"
    }
   ],
   "source": [
    "import kagglehub \n",
    "path=kagglehub.dataset_download(\"rm1000/brain-tumor-mri-scans\")\n",
    "path"
   ]
  },
  {
   "cell_type": "code",
   "execution_count": 17,
   "metadata": {},
   "outputs": [
    {
     "data": {
      "text/plain": [
       "['glioma', 'healthy', 'meningioma', 'pituitary']"
      ]
     },
     "execution_count": 17,
     "metadata": {},
     "output_type": "execute_result"
    }
   ],
   "source": [
    "os.listdir(path)"
   ]
  },
  {
   "cell_type": "code",
   "execution_count": 19,
   "metadata": {},
   "outputs": [
    {
     "data": {
      "text/plain": [
       "1200"
      ]
     },
     "execution_count": 19,
     "metadata": {},
     "output_type": "execute_result"
    }
   ],
   "source": [
    "int(1500 * 0.8)"
   ]
  },
  {
   "cell_type": "code",
   "execution_count": 28,
   "metadata": {},
   "outputs": [],
   "source": [
    "import random\n",
    "\n",
    "nums=list(range(100))\n",
    "splits=[0.8, 0.1, 0.1]\n",
    "\n",
    "random.shuffle(nums)\n",
    "\n",
    "num_elements=len(nums)\n",
    "train_size=int(num_elements * splits[0])\n",
    "val_size=int(num_elements * splits[1])\n",
    "test_size=int(num_elements * splits[2])\n"
   ]
  },
  {
   "cell_type": "code",
   "execution_count": 30,
   "metadata": {},
   "outputs": [
    {
     "name": "stdout",
     "output_type": "stream",
     "text": [
      "train [25, 77, 81, 13, 54, 9, 20, 35, 88, 31, 23, 3, 43, 56, 42, 7, 19, 55, 59, 87, 50, 94, 62, 12, 58, 75, 4, 2, 63, 92, 18, 30, 40, 53, 5, 10, 46, 76, 65, 93, 27, 24, 69, 70, 11, 60, 0, 48, 22, 73, 52, 36, 85, 44, 57, 47, 99, 72, 39, 97, 8, 37, 26, 34, 96, 61, 91, 68, 82, 78, 17, 51, 21, 28, 80, 95, 41, 98, 86, 90]\n",
      "val [33, 14, 66, 79, 15, 16, 89, 32, 64, 38]\n",
      "test [67, 84, 83, 6, 45, 74, 1, 49, 71, 29]\n"
     ]
    }
   ],
   "source": [
    "train=nums[:train_size]\n",
    "val=nums[train_size:(train_size+val_size)]\n",
    "test=nums[-test_size:]\n",
    "\n",
    "print('train', train)\n",
    "print('val', val)\n",
    "print('test', test)"
   ]
  },
  {
   "cell_type": "code",
   "execution_count": 24,
   "metadata": {},
   "outputs": [
    {
     "data": {
      "text/plain": [
       "(10, 80)"
      ]
     },
     "execution_count": 24,
     "metadata": {},
     "output_type": "execute_result"
    }
   ],
   "source": [
    "val_size, train_size"
   ]
  }
 ],
 "metadata": {
  "kernelspec": {
   "display_name": "Python 3",
   "language": "python",
   "name": "python3"
  },
  "language_info": {
   "codemirror_mode": {
    "name": "ipython",
    "version": 3
   },
   "file_extension": ".py",
   "mimetype": "text/x-python",
   "name": "python",
   "nbconvert_exporter": "python",
   "pygments_lexer": "ipython3",
   "version": "3.11.0"
  }
 },
 "nbformat": 4,
 "nbformat_minor": 2
}
